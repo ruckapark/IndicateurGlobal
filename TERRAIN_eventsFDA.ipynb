{
 "cells": [
  {
   "cell_type": "markdown",
   "id": "56133219",
   "metadata": {},
   "source": [
    "## Chartres signatures / fingerprints / empreintes\n",
    "\n",
    "Use FDA (SETAC_Article2_figures.ipynb for reference) to define fingerprints."
   ]
  },
  {
   "cell_type": "code",
   "execution_count": 3,
   "id": "4910faaa",
   "metadata": {},
   "outputs": [],
   "source": [
    "import os\n",
    "import numpy as np\n",
    "import pandas as pd\n",
    "import matplotlib.pyplot as plt\n",
    "import seaborn as sns\n",
    "import datetime"
   ]
  },
  {
   "cell_type": "code",
   "execution_count": 2,
   "id": "d4322816",
   "metadata": {},
   "outputs": [],
   "source": [
    "data_directory = r'D:\\VP\\ARTICLE2\\Terrain\\ToxEvents_TOF825'\n",
    "Tox = 825\n",
    "TXM = 'TOF{}'.format(Tox)"
   ]
  },
  {
   "cell_type": "markdown",
   "id": "571d38ce",
   "metadata": {},
   "source": [
    "### Data Requirement\n",
    "\n",
    "Data must include a file for Erpobdella, Gammarus and Radix.\n",
    "\n",
    "No obligation to change to working directory."
   ]
  },
  {
   "cell_type": "code",
   "execution_count": 18,
   "id": "c1733d3e",
   "metadata": {},
   "outputs": [
    {
     "name": "stdout",
     "output_type": "stream",
     "text": [
      "Erpobdella # of entries: 68\n",
      "Gammarus # of entries: 68\n",
      "Radix # of entries: 68\n"
     ]
    }
   ],
   "source": [
    "#include all csv files in length\n",
    "datareg = {'E':[],'G':[],'R':[]}\n",
    "datafiles = [r'{}\\{}'.format(data_directory,f) for f in os.listdir(data_directory) if '.csv' in f]\n",
    "for f in datafiles:\n",
    "    if 'E-' in f:\n",
    "        datareg['E'].append(f)\n",
    "    elif 'G-' in f:\n",
    "        datareg['G'].append(f)\n",
    "    else:\n",
    "        datareg['R'].append(f)\n",
    "        \n",
    "print('Erpobdella # of entries: {}'.format(len(datareg['E'])))\n",
    "print('Gammarus # of entries: {}'.format(len(datareg['G'])))\n",
    "print('Radix # of entries: {}'.format(len(datareg['R'])))"
   ]
  },
  {
   "cell_type": "code",
   "execution_count": 20,
   "id": "50ef4173",
   "metadata": {},
   "outputs": [
    {
     "name": "stdout",
     "output_type": "stream",
     "text": [
      "D:\\VP\\ARTICLE2\\Terrain\\ToxEvents_TOF825\\E-202207231142.csv\n"
     ]
    }
   ],
   "source": [
    "#example of string format\n",
    "print(datareg['E'][0])"
   ]
  },
  {
   "cell_type": "markdown",
   "id": "24e27e7f",
   "metadata": {},
   "source": [
    "### Data Form\n",
    "\n",
    "List datestrings and datetimes for each even beginning"
   ]
  },
  {
   "cell_type": "code",
   "execution_count": 25,
   "id": "f81a7ec8",
   "metadata": {},
   "outputs": [
    {
     "data": {
      "text/plain": [
       "[datetime.datetime(2022, 7, 23, 11, 42),\n",
       " datetime.datetime(2022, 7, 24, 7, 26),\n",
       " datetime.datetime(2022, 7, 25, 6, 34)]"
      ]
     },
     "execution_count": 25,
     "metadata": {},
     "output_type": "execute_result"
    }
   ],
   "source": [
    "datestrings = [date.split('\\\\')[-1].split('-')[-1].split('.')[0] for date in datareg[[*datareg][0]]]\n",
    "datetimes = [datetime.datetime.strptime(date,'%Y%m%d%H%M') for date in datestrings]\n",
    "datetimes[:3]"
   ]
  },
  {
   "cell_type": "code",
   "execution_count": null,
   "id": "e3bbb4a1",
   "metadata": {},
   "outputs": [],
   "source": []
  },
  {
   "cell_type": "code",
   "execution_count": 105,
   "id": "6de802bd",
   "metadata": {},
   "outputs": [
    {
     "name": "stdout",
     "output_type": "stream",
     "text": [
      "Number of events retained after data cleaning: 64\n",
      "Number of rejected events: 4 - (total NaNs > 9)\n"
     ]
    }
   ],
   "source": [
    "data = {}\n",
    "species = {'E':'Erpobdella','G':'Gammarus','R':'Radix'}\n",
    "timeunit = 's'\n",
    "timescalar = {'s':60,'m':1}\n",
    "timestep = timescalar[timeunit]\n",
    "\n",
    "for s in species:\n",
    "    data.update({s:pd.DataFrame(index = np.arange(-(30*timestep),330*timestep + 1,2*timestep),columns = datestrings)})\n",
    "\n",
    "no_datapoints = 6*30\n",
    "no_deleted = 0\n",
    "na_limit = no_datapoints//20\n",
    "\n",
    "for event in datestrings:\n",
    "    for s in [*species]:\n",
    "        file = r'{}\\{}-{}.csv'.format(data_directory,s,event)\n",
    "        df = pd.read_csv(file,index_col = 0,header = None)\n",
    "        if df[1].isna().sum() > na_limit:\n",
    "            break\n",
    "        else:\n",
    "            df = df.interpolate(method = 'linear',limit_direction = 'both') #interpolate to fill na\n",
    "\n",
    "        data[s][event].iloc[:len(np.array(df[1]))] = np.array(df[1])\n",
    "        \n",
    "#remove columns with nans\n",
    "for event in datestrings:\n",
    "    if data[[*data][0]][event].isna().any():\n",
    "        for s in [*species]: data[s] = data[s].drop(event, axis = 1)\n",
    "        no_deleted += 1\n",
    "            \n",
    "print('Number of events retained after data cleaning: {}'.format(data[[*data][0]].shape[1]))\n",
    "print('Number of rejected events: {} - (total NaNs > {})'.format(no_deleted,na_limit))"
   ]
  },
  {
   "cell_type": "markdown",
   "id": "a347066b",
   "metadata": {},
   "source": [
    "### Data Requirement\n",
    "\n",
    "The IGT terrain calculation adds noise / bruit de fond. (True IGT for values < sqrt(10) are zero)\n",
    "\n",
    "**This should be removed for Signature Definition.**\n",
    "\n",
    "Normalisation should not be necessary in this case, as it is already between 0-100. The study should be repeated for IGT brut/RAW."
   ]
  },
  {
   "cell_type": "code",
   "execution_count": 113,
   "id": "1c78bad5",
   "metadata": {
    "scrolled": true
   },
   "outputs": [
    {
     "data": {
      "image/png": "[encoded data removed]",
      "text/plain": [
       "<Figure size 1080x360 with 3 Axes>"
      ]
     },
     "metadata": {
      "needs_background": "light"
     },
     "output_type": "display_data"
    }
   ],
   "source": [
    "fig_hist,ax_hist = plt.subplots(1,3,figsize = (15,5))\n",
    "for i,s in enumerate([*species]):\n",
    "    sns.histplot(np.array(data[s]).flatten(),bins = 30, ax = ax_hist[i])\n",
    "    ax_hist[i].set_title(species[s])"
   ]
  },
  {
   "cell_type": "markdown",
   "id": "47ff4d41",
   "metadata": {},
   "source": [
    "Note this shows that most events are due to Gammarus or Radix reaction.\n",
    "Almost no events occur for Erpobdella - only low values."
   ]
  },
  {
   "cell_type": "markdown",
   "id": "4af639b1",
   "metadata": {},
   "source": [
    "# FDA\n",
    "\n",
    "### Data Pretreatment"
   ]
  },
  {
   "cell_type": "code",
   "execution_count": null,
   "id": "5265f000",
   "metadata": {},
   "outputs": [],
   "source": []
  },
  {
   "cell_type": "code",
   "execution_count": null,
   "id": "9b7eef42",
   "metadata": {},
   "outputs": [],
   "source": []
  }
 ],
 "metadata": {
  "kernelspec": {
   "display_name": "FDA",
   "language": "python",
   "name": "fda"
  },
  "language_info": {
   "codemirror_mode": {
    "name": "ipython",
    "version": 3
   },
   "file_extension": ".py",
   "mimetype": "text/x-python",
   "name": "python",
   "nbconvert_exporter": "python",
   "pygments_lexer": "ipython3",
   "version": "3.8.16"
  }
 },
 "nbformat": 4,
 "nbformat_minor": 5
}
