{
 "cells": [
  {
   "cell_type": "markdown",
   "id": "56133219",
   "metadata": {},
   "source": [
    "## Chartres signatures / fingerprints / empreintes\n",
    "\n",
    "Use FDA (SETAC_Article2_figures.ipynb for reference) to define fingerprints."
   ]
  },
  {
   "cell_type": "code",
   "execution_count": null,
   "id": "4910faaa",
   "metadata": {},
   "outputs": [],
   "source": []
  }
 ],
 "metadata": {
  "kernelspec": {
   "display_name": "FDA",
   "language": "python",
   "name": "fda"
  },
  "language_info": {
   "codemirror_mode": {
    "name": "ipython",
    "version": 3
   },
   "file_extension": ".py",
   "mimetype": "text/x-python",
   "name": "python",
   "nbconvert_exporter": "python",
   "pygments_lexer": "ipython3",
   "version": "3.8.16"
  }
 },
 "nbformat": 4,
 "nbformat_minor": 5
}
